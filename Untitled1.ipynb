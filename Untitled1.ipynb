{
  "nbformat": 4,
  "nbformat_minor": 0,
  "metadata": {
    "colab": {
      "private_outputs": true,
      "provenance": [],
      "authorship_tag": "ABX9TyMI+WvGEgy/lrnHXgGTpR4L",
      "include_colab_link": true
    },
    "kernelspec": {
      "name": "python3",
      "display_name": "Python 3"
    },
    "language_info": {
      "name": "python"
    }
  },
  "cells": [
    {
      "cell_type": "markdown",
      "metadata": {
        "id": "view-in-github",
        "colab_type": "text"
      },
      "source": [
        "<a href=\"https://colab.research.google.com/github/coshErt/SCP/blob/main/Untitled1.ipynb\" target=\"_parent\"><img src=\"https://colab.research.google.com/assets/colab-badge.svg\" alt=\"Open In Colab\"/></a>"
      ]
    },
    {
      "cell_type": "code",
      "execution_count": null,
      "metadata": {
        "id": "aF7DfYfwCzLD"
      },
      "outputs": [],
      "source": [
        "a=[1, 3, 3]\n",
        "print('SS')\n",
        "print(a)\n",
        "A=True\n",
        "B=False\n",
        "C=A and B\n",
        "D= A or C\n",
        "E = not D\n",
        "if E:\n",
        "    print(\"F\")\n",
        "elif D:\n",
        "    print(\"f\")\n",
        "else:\n",
        "    print(\"F\")\n",
        "for _ in a:\n",
        "    print(\"F\")\n",
        "    continue\n",
        "while C:\n",
        "    print(\"F\")\n",
        "    break\n",
        "b=2\n",
        "c=3\n",
        "d=b**C\n",
        "e=d*c\n",
        "f=e/d\n",
        "g=f+e\n",
        "h=g-f\n",
        "i=h//g\n",
        "j=i%h\n"
      ]
    }
  ]
}